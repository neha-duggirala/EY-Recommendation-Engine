{
  "nbformat": 4,
  "nbformat_minor": 0,
  "metadata": {
    "colab": {
      "name": "EY Badge Recommendation Engine.ipynb",
      "provenance": [],
      "collapsed_sections": [],
      "authorship_tag": "ABX9TyOuqDXZ/xVupDhcMY/HdHbD",
      "include_colab_link": true
    },
    "kernelspec": {
      "name": "python3",
      "display_name": "Python 3"
    }
  },
  "cells": [
    {
      "cell_type": "markdown",
      "metadata": {
        "id": "view-in-github",
        "colab_type": "text"
      },
      "source": [
        "<a href=\"https://colab.research.google.com/github/neha-duggirala/EY-Recommendation-Engine/blob/master/EY_Badge_Recommendation_Engine.ipynb\" target=\"_parent\"><img src=\"https://colab.research.google.com/assets/colab-badge.svg\" alt=\"Open In Colab\"/></a>"
      ]
    },
    {
      "cell_type": "code",
      "metadata": {
        "id": "ZNiXJU1wttEU",
        "colab_type": "code",
        "colab": {
          "base_uri": "https://localhost:8080/",
          "height": 128
        },
        "outputId": "cc0fec7f-3954-4b1e-a414-dc3c26704d99"
      },
      "source": [
        "from google.colab import drive\n",
        "drive.mount('/content/drive')\n",
        "path='/content/drive/My Drive/datasets/EY Hackathon/GDS_EY_Badges.xlsx'"
      ],
      "execution_count": 1,
      "outputs": [
        {
          "output_type": "stream",
          "text": [
            "Go to this URL in a browser: https://accounts.google.com/o/oauth2/auth?client_id=947318989803-6bn6qk8qdgf4n4g3pfee6491hc0brc4i.apps.googleusercontent.com&redirect_uri=urn%3aietf%3awg%3aoauth%3a2.0%3aoob&scope=email%20https%3a%2f%2fwww.googleapis.com%2fauth%2fdocs.test%20https%3a%2f%2fwww.googleapis.com%2fauth%2fdrive%20https%3a%2f%2fwww.googleapis.com%2fauth%2fdrive.photos.readonly%20https%3a%2f%2fwww.googleapis.com%2fauth%2fpeopleapi.readonly&response_type=code\n",
            "\n",
            "Enter your authorization code:\n",
            "··········\n",
            "Mounted at /content/drive\n"
          ],
          "name": "stdout"
        }
      ]
    },
    {
      "cell_type": "code",
      "metadata": {
        "id": "cQpItcSut4li",
        "colab_type": "code",
        "colab": {
          "base_uri": "https://localhost:8080/",
          "height": 35
        },
        "outputId": "6ea000a2-d0c5-427f-e82e-f6fb8d446dab"
      },
      "source": [
        "import pandas as pd\n",
        "import tensorflow as tf\n",
        "import numpy as np\n",
        "import pandas_profiling\n",
        "'Done Importing'"
      ],
      "execution_count": 2,
      "outputs": [
        {
          "output_type": "execute_result",
          "data": {
            "application/vnd.google.colaboratory.intrinsic+json": {
              "type": "string"
            },
            "text/plain": [
              "'Done Importing'"
            ]
          },
          "metadata": {
            "tags": []
          },
          "execution_count": 2
        }
      ]
    },
    {
      "cell_type": "code",
      "metadata": {
        "id": "h44YSljduC-9",
        "colab_type": "code",
        "colab": {
          "base_uri": "https://localhost:8080/",
          "height": 198
        },
        "outputId": "8df3b174-3242-4745-9d58-bb965371a3cb"
      },
      "source": [
        "originalDf = pd.read_excel(path)\n",
        "data = pd.read_excel(path)\n",
        "data.drop(['Requestor GPN','GUI','LastName','FirstName','EmailAddress','Country','Badge Status'],axis=1,inplace=True)\n",
        "data['Time Stamp'] = data['Badge earned'] - data['Initiate a badge date']\n",
        "data['Time Stamp'].fillna(pd.Timedelta(seconds=0),inplace=True)\n",
        "data.drop(['Badge earned','Initiate a badge date'],axis=1,inplace=True)\n",
        "data.head()"
      ],
      "execution_count": 3,
      "outputs": [
        {
          "output_type": "execute_result",
          "data": {
            "text/html": [
              "<div>\n",
              "<style scoped>\n",
              "    .dataframe tbody tr th:only-of-type {\n",
              "        vertical-align: middle;\n",
              "    }\n",
              "\n",
              "    .dataframe tbody tr th {\n",
              "        vertical-align: top;\n",
              "    }\n",
              "\n",
              "    .dataframe thead th {\n",
              "        text-align: right;\n",
              "    }\n",
              "</style>\n",
              "<table border=\"1\" class=\"dataframe\">\n",
              "  <thead>\n",
              "    <tr style=\"text-align: right;\">\n",
              "      <th></th>\n",
              "      <th>EmployeeStatusDesc</th>\n",
              "      <th>Rank Name</th>\n",
              "      <th>Badge Type</th>\n",
              "      <th>Domain</th>\n",
              "      <th>Sub Domain</th>\n",
              "      <th>Badge Classification</th>\n",
              "      <th>GDS SL</th>\n",
              "      <th>Time Stamp</th>\n",
              "    </tr>\n",
              "  </thead>\n",
              "  <tbody>\n",
              "    <tr>\n",
              "      <th>0</th>\n",
              "      <td>Terminated</td>\n",
              "      <td>Rank 9</td>\n",
              "      <td>Bronze</td>\n",
              "      <td>Analytics</td>\n",
              "      <td>Data science</td>\n",
              "      <td>TECHNOLOGY</td>\n",
              "      <td>SL 26</td>\n",
              "      <td>666 days</td>\n",
              "    </tr>\n",
              "    <tr>\n",
              "      <th>1</th>\n",
              "      <td>Terminated</td>\n",
              "      <td>Rank 9</td>\n",
              "      <td>Bronze</td>\n",
              "      <td>Emerging Technology</td>\n",
              "      <td>Robotic process automation</td>\n",
              "      <td>TECHNOLOGY</td>\n",
              "      <td>SL 26</td>\n",
              "      <td>4 days</td>\n",
              "    </tr>\n",
              "    <tr>\n",
              "      <th>2</th>\n",
              "      <td>Active</td>\n",
              "      <td>Rank 9</td>\n",
              "      <td>Bronze</td>\n",
              "      <td>Emerging Technology</td>\n",
              "      <td>Blockchain</td>\n",
              "      <td>TECHNOLOGY</td>\n",
              "      <td>SL 20</td>\n",
              "      <td>37 days</td>\n",
              "    </tr>\n",
              "    <tr>\n",
              "      <th>3</th>\n",
              "      <td>Active</td>\n",
              "      <td>Rank 1</td>\n",
              "      <td>Bronze</td>\n",
              "      <td>Analytics</td>\n",
              "      <td>Data visualization</td>\n",
              "      <td>TECHNOLOGY</td>\n",
              "      <td>SL 8</td>\n",
              "      <td>2 days</td>\n",
              "    </tr>\n",
              "    <tr>\n",
              "      <th>4</th>\n",
              "      <td>Active</td>\n",
              "      <td>Rank 9</td>\n",
              "      <td>Bronze</td>\n",
              "      <td>Analytics</td>\n",
              "      <td>Data visualization</td>\n",
              "      <td>TECHNOLOGY</td>\n",
              "      <td>SL 25</td>\n",
              "      <td>10 days</td>\n",
              "    </tr>\n",
              "  </tbody>\n",
              "</table>\n",
              "</div>"
            ],
            "text/plain": [
              "  EmployeeStatusDesc Rank Name  ... GDS SL Time Stamp\n",
              "0         Terminated    Rank 9  ...  SL 26   666 days\n",
              "1         Terminated    Rank 9  ...  SL 26     4 days\n",
              "2             Active    Rank 9  ...  SL 20    37 days\n",
              "3             Active    Rank 1  ...   SL 8     2 days\n",
              "4             Active    Rank 9  ...  SL 25    10 days\n",
              "\n",
              "[5 rows x 8 columns]"
            ]
          },
          "metadata": {
            "tags": []
          },
          "execution_count": 3
        }
      ]
    },
    {
      "cell_type": "code",
      "metadata": {
        "id": "W-PJMXlKuWQv",
        "colab_type": "code",
        "colab": {}
      },
      "source": [
        "def buildMatrix(row_feature,col_feature):\n",
        "  rowCol = []\n",
        "  for rowEach in data[row_feature].unique():\n",
        "    row =[]\n",
        "    rowEachDF=data[data[row_feature]==rowEach]\n",
        "    for colEach in data[col_feature].unique():\n",
        "      row.append(rowEachDF[rowEachDF[col_feature].str.contains(colEach)].shape[0])\n",
        "    rowCol.append(row)\n",
        "  return rowCol"
      ],
      "execution_count": 4,
      "outputs": []
    },
    {
      "cell_type": "code",
      "metadata": {
        "id": "97Js7ZxjuaiN",
        "colab_type": "code",
        "colab": {}
      },
      "source": [
        "def dataPreparation(data):\n",
        "  badgeClassification={}\n",
        "  for domain in data['Domain'][data['Badge Classification'].str.contains('LEADER')].unique():\n",
        "    badgeClassification[domain]='LEADERSHIP'\n",
        "  for domain in data['Domain'][data['Badge Classification'].str.contains('BUSINESS')].unique():\n",
        "    badgeClassification[domain]='BUSINESS'\n",
        "  for domain in data['Domain'][data['Badge Classification'].str.contains('TECH')].unique():\n",
        "    badgeClassification[domain]='TECHNOLOGY'\n",
        "\n",
        "  levelDomainMatrix = buildMatrix('GDS SL','Domain')\n",
        "  subDomainMatrix = buildMatrix('Domain','Sub Domain')\n",
        "  domainSubDomainDict = {}\n",
        "  for domain in data.Domain.unique():\n",
        "    df = data[data['Domain'].str.contains(domain)]\n",
        "    domainSubDomainDict[domain]=df['Sub Domain'].unique().tolist()\n",
        "  return badgeClassification,domainSubDomainDict,levelDomainMatrix,subDomainMatrix\n"
      ],
      "execution_count": 5,
      "outputs": []
    },
    {
      "cell_type": "code",
      "metadata": {
        "id": "87TNQtEGuupd",
        "colab_type": "code",
        "colab": {}
      },
      "source": [
        "#only works for one record\n",
        "def dropUnnecessaryFeatures(df,axis=0):\n",
        "  df.drop(['Requestor GPN','GUI','LastName','FirstName','EmailAddress','Country','Badge Status','EmployeeStatusDesc','Badge earned','Initiate a badge date'],axis,inplace=True)\n"
      ],
      "execution_count": 6,
      "outputs": []
    },
    {
      "cell_type": "code",
      "metadata": {
        "id": "x5aYxjIsu1hq",
        "colab_type": "code",
        "colab": {}
      },
      "source": [
        "def index(feature,item):\n",
        "  idx = np.where(data[feature].unique()==item)\n",
        "  return((idx[0][0]))"
      ],
      "execution_count": 7,
      "outputs": []
    },
    {
      "cell_type": "code",
      "metadata": {
        "id": "lMeZzd3yu2Ch",
        "colab_type": "code",
        "colab": {}
      },
      "source": [
        "# Function returns indices of N largest elements \n",
        "def NmaxelementsIdx(list, N): \n",
        "    final_list = [] \n",
        "    list1 = list[:]\n",
        "    for i in range(0, N):  \n",
        "        max1 = 0\n",
        "          \n",
        "        for j in range(len(list1)):      \n",
        "            if list1[j] > max1: \n",
        "                max1 = list1[j];\n",
        "                idx1 = list.index(max1)\n",
        "                  \n",
        "        list1.remove(max1); \n",
        "        final_list.append(idx1)\n",
        "    return(final_list)"
      ],
      "execution_count": 8,
      "outputs": []
    },
    {
      "cell_type": "code",
      "metadata": {
        "id": "0tyBY2qtu4fw",
        "colab_type": "code",
        "colab": {}
      },
      "source": [
        "def recommendationEngine(data,currentBadge):\n",
        "  badgeClassification,domainSubDomainDict,levelDomainMatrix,subDomainMatrix = dataPreparation(data)\n",
        "  print(\"******Before truncating the unnecessary features*********** \\n\",currentBadge)\n",
        "  dropUnnecessaryFeatures(currentBadge)\n",
        "  print(\"*************After removing the unnecessary features******** \\n\",currentBadge)\n",
        "  bestOf=2\n",
        "  idx = index('GDS SL',currentBadge['GDS SL'])\n",
        "  levelDomainList = levelDomainMatrix[idx]\n",
        "  domainIdx = NmaxelementsIdx(levelDomainList,bestOf)\n",
        "  print(\"***********Domain Recommendations*****\")\n",
        "  print(domainIdx)\n",
        "  domainRecommendation = [data['Domain'].unique()[idx] for idx in domainIdx]\n",
        "  print(domainRecommendation)\n",
        "  print(\"***********Sub Domain Recommendations********\")\n",
        "  subDomainRecommendation=[]\n",
        "  subDomainIdx=[]\n",
        "  for domain in domainIdx:\n",
        "    subDomainList = subDomainMatrix[domain]\n",
        "    Idx = NmaxelementsIdx(subDomainList,bestOf)\n",
        "    subDomainRecommendation.append([data['Sub Domain'].unique()[idx] for idx in Idx])\n",
        "    subDomainIdx.append(Idx)\n",
        "  print(subDomainIdx)\n",
        "  print(subDomainRecommendation)\n",
        "  print(\"********Badge Recommendations**********\")\n",
        "  currentBadgeIdx = currentBadgeIdx2 = index('Badge Type',currentBadge['Badge Type'])\n",
        "  if currentBadgeIdx>4: \n",
        "    currentBadgeIdx2-=1 \n",
        "  else: currentBadgeIdx2+=1\n",
        "  badgeRecommendationIdx = [currentBadgeIdx,currentBadgeIdx2]\n",
        "  badgeRecommendation = [data['Badge Type'].unique()[idx] for idx in badgeRecommendationIdx]\n",
        "  print(badgeRecommendation)\n",
        "  recommendations = []\n",
        "  for idx in range(len(domainRecommendation)):\n",
        "      for eachsubDomain in subDomainRecommendation[idx]:\n",
        "          if eachsubDomain not in domainSubDomainDict[domainRecommendation[idx]]:\n",
        "            randomDomain = random.randint(0,len(domainSubDomainDict[domainRecommendation[idx]])-1)\n",
        "            eachsubDomain = domainSubDomainDict[domainRecommendation[idx]][randomDomain]\n",
        "          obj = {'Badge Type':\"\",\n",
        "                'Domain':domainRecommendation[idx],\n",
        "                'Sub Domain': eachsubDomain,\n",
        "                'Badge Classification':badgeClassification[domainRecommendation[idx]],\n",
        "                }\n",
        "\n",
        "          recommendations.append(obj)\n",
        "  sol=[]\n",
        "  for badge in badgeRecommendation:\n",
        "    for idx in range(len(recommendations)):\n",
        "      recommendations[idx]['Badge Type'] = badge\n",
        "      print(recommendations[idx])\n",
        "      sol.append(recommendations[idx])\n"
      ],
      "execution_count": 47,
      "outputs": []
    },
    {
      "cell_type": "code",
      "metadata": {
        "id": "PrltXTTmu6rr",
        "colab_type": "code",
        "colab": {
          "base_uri": "https://localhost:8080/",
          "height": 872
        },
        "outputId": "538c7382-0eed-4d6e-9995-519180548994"
      },
      "source": [
        "import random\n",
        "rand = random.randint(0, originalDf.shape[0])\n",
        "currentBadge = originalDf.iloc[rand]\n",
        "# random.shuffle(recommendationEngine(data,currentBadge))\n",
        "recommendationEngine(data,currentBadge)"
      ],
      "execution_count": 48,
      "outputs": [
        {
          "output_type": "stream",
          "text": [
            "******Before truncating the unnecessary features*********** \n",
            " Requestor GPN                      GPN 14067\n",
            "GUI                                      123\n",
            "LastName                             XY14067\n",
            "FirstName                                ABC\n",
            "EmailAddress              abc.xyz@gds.ey.com\n",
            "EmployeeStatusDesc                    Active\n",
            "Country                            Country 3\n",
            "Rank Name                             Rank 9\n",
            "Badge Type                            Bronze\n",
            "Badge Status                        Approved\n",
            "Domain                                Sector\n",
            "Sub Domain                         Insurance\n",
            "Badge Classification                BUSINESS\n",
            "Badge earned             2020-05-02 00:00:00\n",
            "GDS SL                                 SL 20\n",
            "Initiate a badge date    2020-04-15 00:00:00\n",
            "Name: 14066, dtype: object\n",
            "*************After removing the unnecessary features******** \n",
            " Rank Name                  Rank 9\n",
            "Badge Type                 Bronze\n",
            "Domain                     Sector\n",
            "Sub Domain              Insurance\n",
            "Badge Classification     BUSINESS\n",
            "GDS SL                      SL 20\n",
            "Name: 14066, dtype: object\n",
            "***********Domain Recommendations*****\n",
            "[0, 5]\n",
            "['Analytics', 'Sector']\n",
            "***********Sub Domain Recommendations********\n",
            "[[3, 5], [14, 9]]\n",
            "[['Data visualization', 'Data integration'], ['Insurance', 'BCM - Corporate & Commercial Banking']]\n",
            "********Badge Recommendations**********\n",
            "['Bronze', 'Silver']\n",
            "{'Badge Type': 'Bronze', 'Domain': 'Analytics', 'Sub Domain': 'Data visualization', 'Badge Classification': 'TECHNOLOGY'}\n",
            "{'Badge Type': 'Bronze', 'Domain': 'Analytics', 'Sub Domain': 'Data integration', 'Badge Classification': 'TECHNOLOGY'}\n",
            "{'Badge Type': 'Bronze', 'Domain': 'Sector', 'Sub Domain': 'Insurance', 'Badge Classification': 'BUSINESS'}\n",
            "{'Badge Type': 'Bronze', 'Domain': 'Sector', 'Sub Domain': 'BCM - Corporate & Commercial Banking', 'Badge Classification': 'BUSINESS'}\n",
            "{'Badge Type': 'Silver', 'Domain': 'Analytics', 'Sub Domain': 'Data visualization', 'Badge Classification': 'TECHNOLOGY'}\n",
            "{'Badge Type': 'Silver', 'Domain': 'Analytics', 'Sub Domain': 'Data integration', 'Badge Classification': 'TECHNOLOGY'}\n",
            "{'Badge Type': 'Silver', 'Domain': 'Sector', 'Sub Domain': 'Insurance', 'Badge Classification': 'BUSINESS'}\n",
            "{'Badge Type': 'Silver', 'Domain': 'Sector', 'Sub Domain': 'BCM - Corporate & Commercial Banking', 'Badge Classification': 'BUSINESS'}\n"
          ],
          "name": "stdout"
        },
        {
          "output_type": "stream",
          "text": [
            "/usr/local/lib/python3.6/dist-packages/pandas/core/generic.py:3939: SettingWithCopyWarning: \n",
            "A value is trying to be set on a copy of a slice from a DataFrame\n",
            "\n",
            "See the caveats in the documentation: https://pandas.pydata.org/pandas-docs/stable/user_guide/indexing.html#returning-a-view-versus-a-copy\n",
            "  self._update_inplace(obj)\n"
          ],
          "name": "stderr"
        }
      ]
    },
    {
      "cell_type": "code",
      "metadata": {
        "id": "LRn4GSSisTs-",
        "colab_type": "code",
        "colab": {
          "base_uri": "https://localhost:8080/",
          "height": 171
        },
        "outputId": "b140af32-8662-4de8-bd5c-890b8ae4c12a"
      },
      "source": [
        "domainRecommendation"
      ],
      "execution_count": 28,
      "outputs": [
        {
          "output_type": "error",
          "ename": "NameError",
          "evalue": "ignored",
          "traceback": [
            "\u001b[0;31m---------------------------------------------------------------------------\u001b[0m",
            "\u001b[0;31mNameError\u001b[0m                                 Traceback (most recent call last)",
            "\u001b[0;32m<ipython-input-28-117ed509cc2e>\u001b[0m in \u001b[0;36m<module>\u001b[0;34m()\u001b[0m\n\u001b[0;32m----> 1\u001b[0;31m \u001b[0mdomainRecommendation\u001b[0m\u001b[0;34m\u001b[0m\u001b[0;34m\u001b[0m\u001b[0m\n\u001b[0m",
            "\u001b[0;31mNameError\u001b[0m: name 'domainRecommendation' is not defined"
          ]
        }
      ]
    },
    {
      "cell_type": "code",
      "metadata": {
        "id": "DjYZ9y0Ltt2g",
        "colab_type": "code",
        "colab": {}
      },
      "source": [
        ""
      ],
      "execution_count": null,
      "outputs": []
    }
  ]
}